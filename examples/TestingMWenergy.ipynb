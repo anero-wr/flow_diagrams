{
 "cells": [
  {
   "cell_type": "code",
   "execution_count": 1,
   "id": "fe0b4b75",
   "metadata": {},
   "outputs": [],
   "source": [
    "%load_ext autoreload\n",
    "%autoreload 2"
   ]
  },
  {
   "cell_type": "code",
   "execution_count": 2,
   "id": "27e69710",
   "metadata": {},
   "outputs": [
    {
     "name": "stdout",
     "output_type": "stream",
     "text": [
      "env: XLA_PYTHON_CLIENT_MEM_FRACTION=.8\n"
     ]
    }
   ],
   "source": [
    "%env XLA_PYTHON_CLIENT_MEM_FRACTION=.8"
   ]
  },
  {
   "cell_type": "code",
   "execution_count": 3,
   "id": "ee443f73",
   "metadata": {},
   "outputs": [
    {
     "data": {
      "text/plain": [
       "[CpuDevice(id=0)]"
      ]
     },
     "execution_count": 3,
     "metadata": {},
     "output_type": "execute_result"
    }
   ],
   "source": [
    "from jax import numpy as jnp\n",
    "import numpy as np\n",
    "import matplotlib.pyplot as plt\n",
    "\n",
    "import jax\n",
    "from jax import Array\n",
    "jax.devices()"
   ]
  },
  {
   "cell_type": "code",
   "execution_count": 4,
   "id": "49d9042b",
   "metadata": {},
   "outputs": [],
   "source": [
    "EPSILON   = 6.189\n",
    "SIGMA     = 2.3925\n",
    "a         = 1.80\n",
    "lam       = 23.15\n",
    "gamma     = 1.20\n",
    "A         = 7.049556277\n",
    "B         = 0.6022245584\n",
    "p         = 4.\n",
    "q         = 0.\n",
    "#theta_0   = np.radians(109.47)\n",
    "NUM_PARTICLES = 180\n",
    "SPATIAL_DIMENSIONS = 3\n",
    "KB = 0.00831446261815324 # in (unit.kilojoule_per_mole/unit.kelvin)\n",
    "PRESS_PRIOR = 1.\n",
    "TEMP_PRIOR  = 273.\n",
    "\n",
    "CUTOFF= a * SIGMA"
   ]
  },
  {
   "cell_type": "code",
   "execution_count": 5,
   "id": "ae5c3284",
   "metadata": {},
   "outputs": [],
   "source": [
    "import sys\n",
    "sys.path.insert(0, \"/home/ninarell/OneDrive/WF_GAN_FOR_GLASSES/B_GEN/flow_diagrams\")\n",
    "import flow_diagrams\n",
    "from flow_diagrams.energy.stillinger_weber import fd_stillinger_weber_neighbor_list\n",
    "from flow_diagrams.energy.lennard_jones import fd_lennard_jones_neighbor_list\n",
    "from flow_diagrams.utils.data import NumpyLoader, split_data\n"
   ]
  },
  {
   "cell_type": "code",
   "execution_count": 6,
   "id": "25fc4755",
   "metadata": {},
   "outputs": [],
   "source": [
    "from jax_md import space, partition"
   ]
  },
  {
   "cell_type": "code",
   "execution_count": 7,
   "id": "369889c1",
   "metadata": {},
   "outputs": [],
   "source": [
    "def wrap_to_unit_cube(pos, lower, upper):\n",
    "    width = upper - lower\n",
    "    return jnp.mod(pos - lower, width) + lower\n",
    "\n",
    "def wrap_to_box(pos, box):\n",
    "    return pos % box\n",
    "\n",
    "def remove_disp_of_first_atom(displacements):\n",
    "    # assert displacements.shape == (NUM_PARTICLES, SPATIAL_DIMENSIONS)\n",
    "\n",
    "    disp_at_1 = displacements[0,:]\n",
    "\n",
    "    return displacements - disp_at_1\n",
    "\n",
    "\n",
    "def transform_abs_coords_to_rel_coords(absolute_coordinates: Array, side_length: Array):\n",
    "    \"\"\"Transforms relative coordinates inside the unit cube to absolute coordinates given a 3d box_vector.\"\"\"\n",
    "    assert absolute_coordinates.shape[-1] == SPATIAL_DIMENSIONS\n",
    "    assert side_length.shape == (3,)\n",
    "    return absolute_coordinates / side_length\n",
    "\n"
   ]
  },
  {
   "cell_type": "code",
   "execution_count": 8,
   "id": "c911b7ba",
   "metadata": {},
   "outputs": [
    {
     "name": "stdout",
     "output_type": "stream",
     "text": [
      "# Prior samples 1000\n"
     ]
    }
   ],
   "source": [
    "LOWER = 0.\n",
    "UPPER = 1.\n",
    "CUT_TYPE = 'switch'\n",
    "\n",
    "\n",
    "PRIOR_PRESSURE = 1.\n",
    "TEMP_PRIOR  = 273.\n",
    "REDUCED_TEMP_PRIOR = TEMP_PRIOR * KB / EPSILON\n",
    "REDUCED_PRESS_PRIOR = PRIOR_PRESSURE * SIGMA**3 / EPSILON\n",
    "\n",
    "filename_prior = f\"prod.liquid_273K_1atm_mW.npz\"\n",
    "#filename_prior = f\"N180-T1.2000-P8.556-RCUT2.20_1000.npz\"\n",
    "#data_prior = jnp.load(filename_prior)\n",
    "data_prior = jnp.load(filename_prior)\n",
    "positions_prior_abs = data_prior['pos']\n",
    "box_prior = data_prior['box']\n",
    "vols_prior = jnp.prod(box_prior,axis=-1)\n",
    "BOX_EDGES = np.mean(box_prior,axis=0)\n",
    "\n",
    "# fix first atom in origin and wrap to box\n",
    "positions_prior = jax.vmap(wrap_to_box)(jax.vmap(remove_disp_of_first_atom)(positions_prior_abs),box_prior)\n",
    "MEAN_CONFIG = np.mean(positions_prior,axis=0)\n",
    "\n",
    "# scale to [0,1]\n",
    "positions_prior= jax.vmap(transform_abs_coords_to_rel_coords)(positions_prior,box_prior)\n",
    "positions_prior = wrap_to_unit_cube(positions_prior,LOWER,UPPER)    \n",
    "\n",
    "scale_prior = box_prior[:,0] / BOX_EDGES[0]\n",
    "energies_prior = data_prior['ene']\n",
    "\n",
    "assert np.logical_and(1. >= UPPER, positions_prior >= LOWER).all()\n",
    "assert np.allclose(positions_prior[:,0,:],0,atol=1e-7)\n",
    "\n",
    "n_configurations_prior = positions_prior.shape[0] \n",
    "\n",
    "print('# Prior samples', n_configurations_prior)"
   ]
  },
  {
   "cell_type": "code",
   "execution_count": 9,
   "id": "185328cf",
   "metadata": {},
   "outputs": [
    {
     "data": {
      "text/plain": [
       "numpy.lib.npyio.NpzFile"
      ]
     },
     "execution_count": 9,
     "metadata": {},
     "output_type": "execute_result"
    }
   ],
   "source": [
    "type(data_prior)"
   ]
  },
  {
   "cell_type": "code",
   "execution_count": 10,
   "id": "6798e418",
   "metadata": {},
   "outputs": [],
   "source": [
    "# Using float32 for positions / velocities, but float64 for reductions.\n",
    "dtype = np.float32\n",
    "\n",
    "# Specify the format of the neighbor list. \n",
    "# Options are Dense, Sparse, or OrderedSparse. \n",
    "format = partition.Dense"
   ]
  },
  {
   "cell_type": "code",
   "execution_count": 11,
   "id": "9f449ee4",
   "metadata": {},
   "outputs": [],
   "source": [
    "from jax_md.energy import stillinger_weber_neighbor_list\n",
    "displacement_frac, shift_frac = space.periodic_general(BOX_EDGES, fractional_coordinates=False)\n",
    "neighbor_fn, energy_fn = stillinger_weber_neighbor_list(\n",
    "    displacement=displacement_frac,\n",
    "    box_size=BOX_EDGES,\n",
    "    sigma=SIGMA,\n",
    "    A = A,\n",
    "    B = B,\n",
    "    lam = lam,\n",
    "    gamma = gamma,\n",
    "    epsilon= EPSILON,\n",
    "    cutoff = CUTOFF,\n",
    "    dr_threshold= 0.5,\n",
    "    fractional_coordinates=False,\n",
    "    format = format\n",
    "    ) \n",
    "\n",
    "\"\"\"\n",
    "displacement_frac,box_size=BOX_EDGES,\n",
    "    cutoff = REDUCED_CUTOFF,\n",
    "    dr_threshold=1.,\n",
    "    epsilon=EPSILON,\n",
    "    sigma=SIGMA,\n",
    "    lam=lam,\n",
    "    format=format,\n",
    "    fractional_coordinates=False)\n",
    "\"\"\"\n",
    "\n",
    "NEIGHBOR_LIST = neighbor_fn.allocate(MEAN_CONFIG)\n"
   ]
  },
  {
   "cell_type": "code",
   "execution_count": 12,
   "id": "7fa5a07a",
   "metadata": {},
   "outputs": [],
   "source": [
    "def compute_sw_energy(pos_rel: jnp.ndarray, scale):\n",
    "    box= scale * BOX_EDGES\n",
    "    #print(box)\n",
    "    #print(pos_rel*box)\n",
    "    nbrs = NEIGHBOR_LIST.update(pos_rel * box)\n",
    "    #nbrs = NEIGHBOR_LIST.update(data_prior['pos'][0])\n",
    "    sw_energy = energy_fn(pos_rel * box, nbrs, box=box)\n",
    "    #energy_fn(data_prior['pos'][0], nbrs, box=box)\n",
    "\n",
    "    return sw_energy"
   ]
  },
  {
   "cell_type": "code",
   "execution_count": 13,
   "id": "d8cccf41",
   "metadata": {
    "scrolled": false
   },
   "outputs": [],
   "source": [
    "train_fraction = 0.1\n",
    "BATCH_SIZE = 128\n",
    "num_samples = 10\n",
    "\n",
    "# Store all displacements relative to first one (which stays at its equilibrium position)\n",
    "dataset_prior_train, dataset_prior_test = split_data(train_fraction, positions_prior,\n",
    "                        energies_prior,\n",
    "                       scale_prior)\n",
    "dataloader_train = NumpyLoader(dataset_prior_train,BATCH_SIZE,False)\n",
    "\n",
    "ene_prior = dataset_prior_test.energies[:num_samples]\n",
    "pos_latent = dataset_prior_test.pos[:num_samples]\n",
    "scale_latent = dataset_prior_test.scale[:num_samples]\n",
    "# config_latent = jax.vmap(transform_abs_pos_to_abs_config)(pos_latent)\n"
   ]
  },
  {
   "cell_type": "code",
   "execution_count": 14,
   "id": "475d15ac",
   "metadata": {},
   "outputs": [
    {
     "name": "stderr",
     "output_type": "stream",
     "text": [
      "/home/ninarell/miniconda3/envs/bg/lib/python3.10/site-packages/jax/_src/numpy/reductions.py:212: UserWarning: Explicitly requested dtype <class 'jax.numpy.float64'> requested in sum is not available, and will be truncated to dtype float32. To enable more dtypes, set the jax_enable_x64 configuration option or the JAX_ENABLE_X64 shell environment variable. See https://github.com/google/jax#current-gotchas for more.\n",
      "  return _reduction(a, \"sum\", np.sum, lax.add, 0, preproc=_cast_to_numeric,\n"
     ]
    }
   ],
   "source": [
    "energies_recomputed_prior = jax.vmap(compute_sw_energy)(pos_latent,scale_latent)"
   ]
  },
  {
   "cell_type": "code",
   "execution_count": 15,
   "id": "7d60c1d3",
   "metadata": {},
   "outputs": [
    {
     "data": {
      "text/plain": [
       "Array([-1836.9418, -1791.5863, -1820.9943, -1838.1879, -1802.7601,\n",
       "       -1842.5334, -1844.6782, -1854.7607, -1857.1711, -1831.8352],      dtype=float32)"
      ]
     },
     "execution_count": 15,
     "metadata": {},
     "output_type": "execute_result"
    }
   ],
   "source": [
    " energies_recomputed_prior"
   ]
  },
  {
   "cell_type": "code",
   "execution_count": 16,
   "id": "1ae12855",
   "metadata": {},
   "outputs": [
    {
     "data": {
      "text/plain": [
       "array([-1836.94156096, -1827.3783167 , -1837.9955649 , -1838.18766338,\n",
       "       -1843.17967025, -1842.53303051, -1844.67845624, -1854.76075957,\n",
       "       -1857.17064481, -1831.83512308])"
      ]
     },
     "execution_count": 16,
     "metadata": {},
     "output_type": "execute_result"
    }
   ],
   "source": [
    "ene_prior"
   ]
  },
  {
   "cell_type": "code",
   "execution_count": 17,
   "id": "7c9c1f95",
   "metadata": {},
   "outputs": [
    {
     "data": {
      "text/plain": [
       "Array([-2.4414062e-04,  3.5791992e+01,  1.7001343e+01, -2.4414062e-04,\n",
       "        4.0419556e+01, -3.6621094e-04,  2.4414062e-04,  0.0000000e+00,\n",
       "       -4.8828125e-04, -1.2207031e-04], dtype=float32)"
      ]
     },
     "execution_count": 17,
     "metadata": {},
     "output_type": "execute_result"
    }
   ],
   "source": [
    "energies_recomputed_prior - ene_prior"
   ]
  },
  {
   "cell_type": "code",
   "execution_count": 19,
   "id": "0af2d494",
   "metadata": {},
   "outputs": [
    {
     "data": {
      "text/plain": [
       "0.4519232066944438"
      ]
     },
     "execution_count": 19,
     "metadata": {},
     "output_type": "execute_result"
    }
   ],
   "source": [
    "from flow_diagrams.utils.conditioning import convert_from_reduced_p, convert_from_reduced_t\n",
    "\n",
    "convert_from_reduced_p(EPSILON, SIGMA)"
   ]
  },
  {
   "cell_type": "code",
   "execution_count": 20,
   "id": "2bf5415f",
   "metadata": {},
   "outputs": [
    {
     "data": {
      "text/plain": [
       "2.586833855799373"
      ]
     },
     "execution_count": 20,
     "metadata": {},
     "output_type": "execute_result"
    }
   ],
   "source": [
    "convert_from_reduced_t(EPSILON, SIGMA)"
   ]
  },
  {
   "cell_type": "code",
   "execution_count": 21,
   "id": "79923285",
   "metadata": {},
   "outputs": [
    {
     "data": {
      "text/plain": [
       "0.36675525848373475"
      ]
     },
     "execution_count": 21,
     "metadata": {},
     "output_type": "execute_result"
    }
   ],
   "source": [
    "REDUCED_TEMP_PRIOR"
   ]
  },
  {
   "cell_type": "code",
   "execution_count": 22,
   "id": "43df9dad",
   "metadata": {},
   "outputs": [
    {
     "data": {
      "text/plain": [
       "2.212765322043141"
      ]
     },
     "execution_count": 22,
     "metadata": {},
     "output_type": "execute_result"
    }
   ],
   "source": [
    "REDUCED_PRESS_PRIOR"
   ]
  },
  {
   "cell_type": "code",
   "execution_count": 23,
   "id": "48bdbc5f",
   "metadata": {},
   "outputs": [
    {
     "data": {
      "text/plain": [
       "0.9999999999999999"
      ]
     },
     "execution_count": 23,
     "metadata": {},
     "output_type": "execute_result"
    }
   ],
   "source": [
    "2.212765322043141 * EPSILON / SIGMA**3"
   ]
  },
  {
   "cell_type": "code",
   "execution_count": null,
   "id": "74c824ff",
   "metadata": {},
   "outputs": [],
   "source": []
  }
 ],
 "metadata": {
  "kernelspec": {
   "display_name": "bg",
   "language": "python",
   "name": "bg"
  },
  "language_info": {
   "codemirror_mode": {
    "name": "ipython",
    "version": 3
   },
   "file_extension": ".py",
   "mimetype": "text/x-python",
   "name": "python",
   "nbconvert_exporter": "python",
   "pygments_lexer": "ipython3",
   "version": "3.10.12"
  }
 },
 "nbformat": 4,
 "nbformat_minor": 5
}
