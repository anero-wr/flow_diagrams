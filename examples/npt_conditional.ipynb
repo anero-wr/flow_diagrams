{
 "cells": [
  {
   "cell_type": "code",
   "execution_count": null,
   "metadata": {},
   "outputs": [],
   "source": [
    "%load_ext autoreload\n",
    "%autoreload 2"
   ]
  },
  {
   "cell_type": "code",
   "execution_count": null,
   "metadata": {},
   "outputs": [],
   "source": [
    "%env XLA_PYTHON_CLIENT_MEM_FRACTION=.8\n"
   ]
  },
  {
   "cell_type": "code",
   "execution_count": null,
   "metadata": {},
   "outputs": [],
   "source": [
    "import jax\n",
    "jax.devices()"
   ]
  },
  {
   "cell_type": "code",
   "execution_count": null,
   "metadata": {},
   "outputs": [],
   "source": [
    "import jax\n",
    "import time\n",
    "import equinox as eqx\n",
    "import numpy as np\n",
    "import matplotlib.pyplot as plt\n",
    "from jax import numpy as jnp\n",
    "from IPython.display import clear_output\n",
    "from jax import Array\n",
    "from openmm import unit\n",
    "import optax\n",
    "from flow_diagrams.utils.conditioning import convert_from_reduced_p, convert_from_reduced_t\n",
    "from matplotlib import colors\n",
    "\n"
   ]
  },
  {
   "cell_type": "code",
   "execution_count": null,
   "metadata": {},
   "outputs": [],
   "source": [
    "jax.devices()"
   ]
  },
  {
   "cell_type": "code",
   "execution_count": null,
   "metadata": {},
   "outputs": [],
   "source": [
    "from jax_md import space, partition"
   ]
  },
  {
   "cell_type": "code",
   "execution_count": null,
   "metadata": {},
   "outputs": [],
   "source": [
    "from flow_diagrams.utils.train import log_weights_given_latent, normalize_weights, sampling_efficiency, effective_sample_size, delta_f_to_prior\n",
    "from flow_diagrams.utils.visualization import radial_distribution_function\n",
    "from flow_diagrams.utils.data import NumpyLoader, split_data\n",
    "from flow_diagrams.utils.symmetry import *\n",
    "\n",
    "from jax import numpy as jnp\n",
    "\n",
    "from flow_diagrams.energy.lennard_jones import fd_lennard_jones_neighbor_list\n",
    "\n",
    "from flow_diagrams.models.coupling_flows import ConditionalCouplingFlowNPT\n",
    "\n",
    "from flow_diagrams.utils.train import running_average\n",
    "# from flow_diagrams.utils.lattice import volume_to_box\n",
    "from flow_diagrams.utils.weights import get_weights, get_biases\n",
    "from flow_diagrams.utils.jax import key_chain\n",
    "from IPython.display import clear_output\n",
    "from flow_diagrams.utils.conditioning import grid_conditional_variables\n",
    "import time\n"
   ]
  },
  {
   "cell_type": "code",
   "execution_count": null,
   "metadata": {},
   "outputs": [],
   "source": [
    "chain = key_chain(1)"
   ]
  },
  {
   "attachments": {},
   "cell_type": "markdown",
   "metadata": {},
   "source": [
    "## Constants"
   ]
  },
  {
   "cell_type": "code",
   "execution_count": null,
   "metadata": {},
   "outputs": [],
   "source": [
    "LATTICE = 'fcc'\n",
    "NUM_PARTICLES = 180\n",
    "SPATIAL_DIMENSIONS = 3\n",
    "REDUCED_CUTOFF = 2.2\n",
    "\n",
    "KB = unit.MOLAR_GAS_CONSTANT_R.value_in_unit(unit.kilojoule_per_mole/unit.kelvin)\n",
    "\n",
    "SPATIAL_DIMENSIONS = 3\n",
    "\n",
    "EPSILON = 0.995792 # in kJ / mol\n",
    "# EPSILON = 1\n",
    "SIGMA = 0.34 # in nm as used in openmm\n"
   ]
  },
  {
   "cell_type": "markdown",
   "metadata": {},
   "source": [
    "## Transformation functions"
   ]
  },
  {
   "cell_type": "code",
   "execution_count": null,
   "metadata": {},
   "outputs": [],
   "source": [
    "\n",
    "def remove_disp_of_first_atom(displacements):\n",
    "    # assert displacements.shape == (NUM_PARTICLES, SPATIAL_DIMENSIONS)\n",
    "\n",
    "    disp_at_1 = displacements[0,:]\n",
    "\n",
    "    return displacements - disp_at_1\n",
    "\n",
    "\n",
    "def transform_abs_coords_to_rel_coords(absolute_coordinates: Array, side_length: Array):\n",
    "    \"\"\"Transforms relative coordinates inside the unit cube to absolute coordinates given a 3d box_vector.\"\"\"\n",
    "    assert absolute_coordinates.shape[-1] == SPATIAL_DIMENSIONS\n",
    "    assert side_length.shape == (3,)\n",
    "    return absolute_coordinates / side_length\n",
    "\n",
    "\n",
    "\n",
    "\n"
   ]
  },
  {
   "cell_type": "markdown",
   "metadata": {},
   "source": [
    "## Put MD data into dataloader "
   ]
  },
  {
   "cell_type": "code",
   "execution_count": null,
   "metadata": {},
   "outputs": [],
   "source": [
    "def wrap_to_unit_cube(pos, lower, upper):\n",
    "    width = upper - lower\n",
    "    return jnp.mod(pos - lower, width) + lower\n",
    "\n",
    "def wrap_to_box(pos, box):\n",
    "    return pos % box"
   ]
  },
  {
   "cell_type": "code",
   "execution_count": null,
   "metadata": {},
   "outputs": [],
   "source": [
    "jax.config.update(\"jax_enable_x64\", False)\n"
   ]
  },
  {
   "cell_type": "code",
   "execution_count": null,
   "metadata": {},
   "outputs": [],
   "source": [
    "LOWER = 0.\n",
    "UPPER = 1.\n",
    "CUT_TYPE = 'switch'\n",
    "REDUCED_TEMP_PRIOR = 1.2\n",
    "TEMP_PRIOR = (REDUCED_TEMP_PRIOR * EPSILON / KB) \n",
    "\n",
    "REDUCED_PRESS_PRIOR = 8.5555\n",
    "\n",
    "PRIOR_PRESSURE = REDUCED_PRESS_PRIOR * EPSILON / SIGMA **3\n",
    "\n",
    "TEMP_PRIOR = (REDUCED_TEMP_PRIOR * EPSILON / KB) \n",
    "\n",
    "filename_prior = f\"N{NUM_PARTICLES}-T{REDUCED_TEMP_PRIOR:.4f}-P{REDUCED_PRESS_PRIOR:.3f}-RCUT{REDUCED_CUTOFF:.2f}_1000.npz\"\n",
    "\n",
    "data_prior = jnp.load(filename_prior)\n",
    "positions_prior_abs = data_prior['pos']\n",
    "box_prior = data_prior['box']\n",
    "vols_prior = jnp.prod(box_prior,axis=-1)\n",
    "BOX_EDGES = np.mean(box_prior,axis=0)\n",
    "\n",
    "# fix first atom in origin and wrap to box\n",
    "positions_prior = jax.vmap(wrap_to_box)(jax.vmap(remove_disp_of_first_atom)(positions_prior_abs),box_prior)\n",
    "MEAN_CONFIG = np.mean(positions_prior,axis=0)\n",
    "\n",
    "# scale to [0,1]\n",
    "positions_prior= jax.vmap(transform_abs_coords_to_rel_coords)(positions_prior,box_prior)\n",
    "positions_prior = wrap_to_unit_cube(positions_prior,LOWER,UPPER)    \n",
    "\n",
    "scale_prior = box_prior[:,0] / BOX_EDGES[0]\n",
    "energies_prior = data_prior['ene']\n",
    "\n",
    "assert np.logical_and(1. >= UPPER, positions_prior >= LOWER).all()\n",
    "assert np.allclose(positions_prior[:,0,:],0,atol=1e-7)\n",
    "\n",
    "n_configurations_prior = positions_prior.shape[0] \n",
    "\n",
    "print('# Prior samples', n_configurations_prior)"
   ]
  },
  {
   "cell_type": "code",
   "execution_count": null,
   "metadata": {},
   "outputs": [],
   "source": [
    "n_samples_rdf = 500\n",
    "rdf = radial_distribution_function(data_prior['pos'][:n_samples_rdf],data_prior['box'][:n_samples_rdf], NUM_PARTICLES)\n",
    "\n",
    "plt.figure(figsize=(10,5))\n",
    "plt.subplot(1,2,1)\n",
    "plt.plot(*rdf)\n",
    "plt.ylabel('g(r)')\n",
    "plt.xlabel('r')\n",
    "plt.subplot(1,2,2)\n",
    "plt.plot(data_prior['pos'][:n_samples_rdf,0,0])\n",
    "plt.show()"
   ]
  },
  {
   "cell_type": "code",
   "execution_count": null,
   "metadata": {},
   "outputs": [],
   "source": [
    "BATCH_SIZE = 128\n"
   ]
  },
  {
   "cell_type": "code",
   "execution_count": null,
   "metadata": {},
   "outputs": [],
   "source": [
    "train_fraction = .8\n",
    "# Store all displacements relative to first one (which stays at its equilibrium position)\n",
    "dataset_prior_train, dataset_prior_test = split_data(train_fraction, positions_prior,\n",
    "                        energies_prior,\n",
    "                       scale_prior)\n",
    "dataloader_train = NumpyLoader(dataset_prior_train,BATCH_SIZE,False)\n",
    "\n"
   ]
  },
  {
   "cell_type": "code",
   "execution_count": null,
   "metadata": {},
   "outputs": [],
   "source": [
    "len(dataset_prior_train), len(dataset_prior_test)"
   ]
  },
  {
   "cell_type": "code",
   "execution_count": null,
   "metadata": {},
   "outputs": [],
   "source": []
  },
  {
   "cell_type": "markdown",
   "metadata": {
    "id": "f7JwYyFdRPny"
   },
   "source": [
    "## Prepare the system"
   ]
  },
  {
   "cell_type": "code",
   "execution_count": null,
   "metadata": {},
   "outputs": [],
   "source": [
    "\n",
    "# Using float32 for positions / velocities, but float64 for reductions.\n",
    "dtype = np.float32\n",
    "\n",
    "# Specify the format of the neighbor list. \n",
    "# Options are Dense, Sparse, or OrderedSparse. \n",
    "format = partition.OrderedSparse"
   ]
  },
  {
   "cell_type": "code",
   "execution_count": null,
   "metadata": {},
   "outputs": [],
   "source": [
    "displacement_frac, shift_frac = space.periodic_general(BOX_EDGES, fractional_coordinates=False)\n",
    "neighbor_fn, energy_fn = fd_lennard_jones_neighbor_list(\n",
    "    displacement_frac,box_size=BOX_EDGES,\n",
    "    r_onset=.9*REDUCED_CUTOFF, # in units of SIGMA\n",
    "    r_cutoff = REDUCED_CUTOFF, # in units of SIGMA\n",
    "    dr_threshold=1.,\n",
    "    epsilon=EPSILON,\n",
    "    sigma=SIGMA,\n",
    "    shift=False,\n",
    "    smooth=True,\n",
    "    format=format,\n",
    "    fractional_coordinates=False)\n",
    "NEIGHBOR_LIST = neighbor_fn.allocate(MEAN_CONFIG)\n",
    "\n"
   ]
  },
  {
   "cell_type": "code",
   "execution_count": null,
   "metadata": {},
   "outputs": [],
   "source": [
    "def compute_lj_energy(pos_rel: jnp.ndarray, scale):\n",
    "    box= scale * BOX_EDGES\n",
    "    nbrs = NEIGHBOR_LIST.update(pos_rel * box)\n",
    "    lj_energy = energy_fn(pos_rel * box, nbrs, box=box)\n",
    "\n",
    "    return lj_energy\n"
   ]
  },
  {
   "cell_type": "code",
   "execution_count": null,
   "metadata": {},
   "outputs": [],
   "source": [
    "num_samples = 100\n"
   ]
  },
  {
   "cell_type": "code",
   "execution_count": null,
   "metadata": {},
   "outputs": [],
   "source": [
    "ene_prior = dataset_prior_test.energies[:num_samples]\n",
    "pos_latent = dataset_prior_test.pos[:num_samples]\n",
    "scale_latent = dataset_prior_test.scale[:num_samples]\n",
    "# config_latent = jax.vmap(transform_abs_pos_to_abs_config)(pos_latent)\n",
    "energies_recomputed_prior = jax.vmap(\n",
    "               compute_lj_energy)(pos_latent,scale_latent)"
   ]
  },
  {
   "cell_type": "code",
   "execution_count": null,
   "metadata": {},
   "outputs": [],
   "source": [
    "# Ensure that energy function reproduces the MD energies\n",
    "plt.plot(ene_prior / energies_recomputed_prior)\n",
    "plt.show()"
   ]
  },
  {
   "cell_type": "code",
   "execution_count": null,
   "metadata": {},
   "outputs": [],
   "source": [
    "chain=key_chain(1)"
   ]
  },
  {
   "cell_type": "code",
   "execution_count": null,
   "metadata": {},
   "outputs": [],
   "source": [
    "p_max = 20* convert_from_reduced_p(EPSILON, SIGMA)\n",
    "p_min = 4* convert_from_reduced_p(EPSILON, SIGMA)\n",
    "\n",
    "t_max = 1.6* convert_from_reduced_t(EPSILON, KB)\n",
    "t_min = 0.6* convert_from_reduced_t(EPSILON, KB)\n",
    "conditioning_states= grid_conditional_variables(t_min,t_max,p_min, p_max, 80,80)\n",
    "\n"
   ]
  },
  {
   "cell_type": "code",
   "execution_count": null,
   "metadata": {},
   "outputs": [],
   "source": [
    "assert conditioning_states[0,0] == t_min\n",
    "assert conditioning_states[0,1] == p_min\n",
    "\n",
    "assert conditioning_states[-1,0] == t_max\n",
    "assert conditioning_states[-1,1] == p_max"
   ]
  },
  {
   "cell_type": "code",
   "execution_count": null,
   "metadata": {},
   "outputs": [],
   "source": [
    "\n",
    "\n",
    "flow = ConditionalCouplingFlowNPT(n_layers=1,\n",
    "                            num_hidden=2,\n",
    "                            dim_hidden=32,\n",
    "                            num_hidden_shape=4,\n",
    "                            dim_hidden_shape=16,\n",
    "                            dim_embedd =32,\n",
    "                            lower=0,\n",
    "                            upper=1,\n",
    "                            n_bins=16,\n",
    "                            n_heads=1,\n",
    "                            t_max=t_max,\n",
    "                            p_max=p_max,\n",
    "                            use_layer_norm=True,\n",
    "                            n_blocks=1,\n",
    "                            use_circular_shift=True,\n",
    "                            n_freqs=8,\n",
    "                            init_identity=True,\n",
    "                            n_particles=NUM_PARTICLES ,\n",
    "                            key= next(chain))\n",
    "\n",
    "params, static = eqx.partition(flow, eqx.is_array)\n",
    "\n",
    "param_count = sum(x.size for x in jax.tree_util.tree_leaves(params))\n",
    "print(f\"{param_count:_}\")"
   ]
  },
  {
   "attachments": {},
   "cell_type": "markdown",
   "metadata": {},
   "source": [
    "## Train model"
   ]
  },
  {
   "cell_type": "code",
   "execution_count": null,
   "metadata": {},
   "outputs": [],
   "source": [
    "NUM_EPOCHS = 50\n",
    "n_batches = len(dataloader_train)\n",
    "n_total_steps = NUM_EPOCHS * n_batches\n"
   ]
  },
  {
   "cell_type": "code",
   "execution_count": null,
   "metadata": {},
   "outputs": [],
   "source": [
    "# optim = optax.adam(1e-7)\n",
    "optim = optax.adam(5e-5\n",
    "                   )\n",
    "optim = optax.chain(optax.clip_by_global_norm(1e4), optim)"
   ]
  },
  {
   "cell_type": "code",
   "execution_count": null,
   "metadata": {},
   "outputs": [],
   "source": [
    "params, static = eqx.partition(flow, eqx.is_array)\n",
    "opt_state = optim.init(params)\n"
   ]
  },
  {
   "cell_type": "code",
   "execution_count": null,
   "metadata": {},
   "outputs": [],
   "source": [
    "key = key_chain(1)\n"
   ]
  },
  {
   "cell_type": "code",
   "execution_count": null,
   "metadata": {},
   "outputs": [],
   "source": [
    "loss_batch_eval = jnp.zeros((n_batches,))\n",
    "losses_eval = jnp.empty(shape=(0,))\n",
    "efficiencies = jnp.empty(shape=(0,))\n"
   ]
  },
  {
   "cell_type": "code",
   "execution_count": null,
   "metadata": {},
   "outputs": [],
   "source": [
    "from flow_diagrams.train.train import make_step, batch_loss_temp_press_vmap, batch_loss_temp_press_individual"
   ]
  },
  {
   "cell_type": "code",
   "execution_count": null,
   "metadata": {},
   "outputs": [],
   "source": [
    "@eqx.filter_jit\n",
    "def evaluate_flow(flow,pos,scale,temp,press):\n",
    "    return flow.forward(pos=pos,scale=scale,temp=temp,press=press)"
   ]
  },
  {
   "cell_type": "code",
   "execution_count": null,
   "metadata": {},
   "outputs": [],
   "source": [
    "eval_state = jnp.array([[1.3 * EPSILON / KB, 8.5555 * EPSILON / SIGMA**3]])\n"
   ]
  },
  {
   "cell_type": "code",
   "execution_count": null,
   "metadata": {},
   "outputs": [],
   "source": [
    "# Reference value: Free energy difference per particle for evaluation state\n",
    "delta_f_ref = -0.1391"
   ]
  },
  {
   "cell_type": "code",
   "execution_count": null,
   "metadata": {},
   "outputs": [],
   "source": [
    "PRINT_ITERS = 5\n",
    "IS_LIQUID = False\n",
    "for i in range(75):\n",
    "\n",
    "    for ibatch, (batch_pos, batch_ene, batch_scale) in enumerate(dataloader_train):\n",
    "        key = next(chain)\n",
    "        chain = key_chain(key)\n",
    "\n",
    "        loss_train, flow, opt_state = make_step(\n",
    "            batch_pos=batch_pos,\n",
    "            batch_ene=batch_ene,\n",
    "            batch_scale=batch_scale,\n",
    "            flow=flow,\n",
    "            temps_and_pressures=conditioning_states,\n",
    "            optimized_state=opt_state,\n",
    "            optim=optim,\n",
    "            target_energy_fn=compute_lj_energy,\n",
    "            prior_pressure=PRIOR_PRESSURE,\n",
    "            reference_box=BOX_EDGES,\n",
    "            prior_temp=TEMP_PRIOR,\n",
    "            key=next(chain),\n",
    "        )\n",
    "\n",
    "        loss_eval = batch_loss_temp_press_vmap(\n",
    "            batch_pos=batch_pos,\n",
    "            batch_scale=batch_scale,\n",
    "            batch_ene=batch_ene,\n",
    "            temps_and_pressures=eval_state,\n",
    "            flow=flow,\n",
    "            prior_pressure=PRIOR_PRESSURE,\n",
    "            reference_box=BOX_EDGES,\n",
    "            prior_temp=TEMP_PRIOR,\n",
    "            target_energy_fn=compute_lj_energy,\n",
    "        )\n",
    "\n",
    "        loss_batch_eval = loss_batch_eval.at[ibatch].set(loss_eval)\n",
    "\n",
    "    losses_eval = jnp.concatenate((losses_eval, loss_batch_eval))\n",
    "    clear_output(wait=True)\n",
    "    plt.figure(figsize=(5, 5))\n",
    "    plt.plot(\n",
    "        np.linspace(0, losses_eval.shape[0] / n_batches, losses_eval.shape[0]),\n",
    "        losses_eval / NUM_PARTICLES,\n",
    "    )\n",
    "\n",
    "    plt.axhline(delta_f_ref, linestyle=\"--\", color=\"black\", label=r\"MBAR $\\Delta f / N$\")\n",
    "    plt.xlabel(\"# Epochs\")\n",
    "    plt.ylabel(\"Loss\")\n",
    "    plt.legend()\n",
    "    plt.show()"
   ]
  },
  {
   "cell_type": "markdown",
   "metadata": {},
   "source": [
    "## Evaluate trained model "
   ]
  },
  {
   "cell_type": "code",
   "execution_count": null,
   "metadata": {},
   "outputs": [],
   "source": [
    "evaluation_states = grid_conditional_variables(t_min,t_max,p_min, p_max, 8,8)\n"
   ]
  },
  {
   "cell_type": "code",
   "execution_count": null,
   "metadata": {},
   "outputs": [],
   "source": [
    "n_test = 200\n",
    "batch_pos = dataset_prior_test.pos[:n_test]\n",
    "batch_scale = dataset_prior_test.scale[:n_test]\n",
    "batch_energies = dataset_prior_test.energies[:n_test]\n",
    "efficiencies = jnp.empty((0,))\n",
    "deltaFs = jnp.empty((0,))\n",
    "\n",
    "mean_disps = jnp.empty((0,n_test))\n",
    "\n",
    "for j, state in enumerate(evaluation_states):\n",
    "    logw_flow_unnormalized = jax.vmap(\n",
    "            lambda pos,ene,scal: log_weights_given_latent(\n",
    "                pos_prior=pos,\n",
    "                prior_energy=ene,\n",
    "                scale_prior=scal,\n",
    "                flow=flow,\n",
    "                temp_and_pressure_target=state,\n",
    "                temp_and_pressure_flow=state,\n",
    "                n_particles=NUM_PARTICLES,\n",
    "                pressure_prior=PRIOR_PRESSURE,\n",
    "                temp_prior=TEMP_PRIOR,\n",
    "                reference_box=BOX_EDGES,\n",
    "                target_energy_fn=compute_lj_energy,\n",
    "            )\n",
    "        )(batch_pos, batch_energies, batch_scale)\n",
    "\n",
    "    logw_normalized = normalize_weights(logw_flow_unnormalized)\n",
    "\n",
    "    deltaF = delta_f_to_prior(logw_flow_unnormalized)\n",
    "\n",
    "    efficiency = sampling_efficiency(logw_flow_unnormalized)\n",
    "    ess_flow = effective_sample_size(logw_flow_unnormalized)\n",
    "    efficiencies = jnp.concatenate((efficiencies, jnp.array([ efficiency])))\n",
    "    deltaFs = jnp.concatenate((deltaFs, jnp.array([ deltaF])))\n",
    "    print(j, state, efficiency)"
   ]
  },
  {
   "cell_type": "code",
   "execution_count": null,
   "metadata": {},
   "outputs": [],
   "source": [
    "contour = plt.tricontourf(\n",
    "    evaluation_states[:, 0] / convert_from_reduced_t(EPSILON, KB),\n",
    "    evaluation_states[:, 1] / convert_from_reduced_p(EPSILON, SIGMA),\n",
    "    efficiencies * 100,\n",
    "    norm=colors.LogNorm(),\n",
    "    levels=np.geomspace(1e-0, 100, 11),\n",
    ")\n",
    "plt.colorbar(contour, ticks=np.geomspace(1e-0, 100, 11))\n",
    "plt.scatter(\n",
    "    evaluation_states[:, 0] / convert_from_reduced_t(EPSILON, KB),\n",
    "    evaluation_states[:, 1] / convert_from_reduced_p(EPSILON, SIGMA),\n",
    "    alpha=0.2,\n",
    ")\n",
    "plt.plot(REDUCED_TEMP_PRIOR, REDUCED_PRESS_PRIOR, \"x\", color=\"blue\")\n",
    "# plt.yscale('log')\n",
    "plt.set_cmap(\"Reds\")\n",
    "plt.xlabel(\"T*\")\n",
    "plt.title(\"ESS [%]\")\n",
    "plt.ylabel(\"P*\")\n",
    "plt.show()"
   ]
  }
 ],
 "metadata": {
  "kernelspec": {
   "display_name": "rigid_flows",
   "language": "python",
   "name": "python3"
  },
  "language_info": {
   "codemirror_mode": {
    "name": "ipython",
    "version": 3
   },
   "file_extension": ".py",
   "mimetype": "text/x-python",
   "name": "python",
   "nbconvert_exporter": "python",
   "pygments_lexer": "ipython3",
   "version": "3.10.13"
  },
  "orig_nbformat": 4,
  "vscode": {
   "interpreter": {
    "hash": "bfe0913de54408e5455d1e3f8a6560b6bfd6fd94d901dd483e72738fefca1552"
   }
  }
 },
 "nbformat": 4,
 "nbformat_minor": 2
}
