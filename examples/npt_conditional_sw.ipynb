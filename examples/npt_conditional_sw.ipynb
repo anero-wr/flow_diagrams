{
 "cells": [
  {
   "cell_type": "code",
   "execution_count": 1,
   "metadata": {},
   "outputs": [],
   "source": [
    "%load_ext autoreload\n",
    "%autoreload 2"
   ]
  },
  {
   "cell_type": "code",
   "execution_count": 2,
   "metadata": {},
   "outputs": [
    {
     "name": "stdout",
     "output_type": "stream",
     "text": [
      "env: XLA_PYTHON_CLIENT_MEM_FRACTION=.8\n"
     ]
    }
   ],
   "source": [
    "%env XLA_PYTHON_CLIENT_MEM_FRACTION=.8"
   ]
  },
  {
   "cell_type": "code",
   "execution_count": 3,
   "metadata": {},
   "outputs": [
    {
     "data": {
      "text/plain": [
       "[CpuDevice(id=0)]"
      ]
     },
     "execution_count": 3,
     "metadata": {},
     "output_type": "execute_result"
    }
   ],
   "source": [
    "import jax\n",
    "jax.devices()"
   ]
  },
  {
   "cell_type": "code",
   "execution_count": 4,
   "metadata": {},
   "outputs": [],
   "source": [
    "import sys\n",
    "sys.path.insert(0, \"/home/ninarell/OneDrive/WF_GAN_FOR_GLASSES/B_GEN/flow_diagrams\")\n",
    "import flow_diagrams"
   ]
  },
  {
   "cell_type": "code",
   "execution_count": 5,
   "metadata": {},
   "outputs": [],
   "source": [
    "import jax\n",
    "import time\n",
    "import equinox as eqx\n",
    "import numpy as np\n",
    "import matplotlib.pyplot as plt\n",
    "from jax import numpy as jnp\n",
    "from IPython.display import clear_output\n",
    "from jax import Array\n",
    "# from openmm import unit\n",
    "import optax\n",
    "from flow_diagrams.utils.conditioning import convert_from_reduced_p, convert_from_reduced_t\n",
    "from matplotlib import colors\n",
    "\n"
   ]
  },
  {
   "cell_type": "code",
   "execution_count": 6,
   "metadata": {},
   "outputs": [
    {
     "data": {
      "text/plain": [
       "[CpuDevice(id=0)]"
      ]
     },
     "execution_count": 6,
     "metadata": {},
     "output_type": "execute_result"
    }
   ],
   "source": [
    "jax.devices()"
   ]
  },
  {
   "cell_type": "code",
   "execution_count": 7,
   "metadata": {},
   "outputs": [],
   "source": [
    "from jax_md import space, partition"
   ]
  },
  {
   "cell_type": "code",
   "execution_count": 8,
   "metadata": {},
   "outputs": [
    {
     "name": "stderr",
     "output_type": "stream",
     "text": [
      "2024-10-11 17:17:31.529416: E external/local_xla/xla/stream_executor/cuda/cuda_dnn.cc:9261] Unable to register cuDNN factory: Attempting to register factory for plugin cuDNN when one has already been registered\n",
      "2024-10-11 17:17:31.529490: E external/local_xla/xla/stream_executor/cuda/cuda_fft.cc:607] Unable to register cuFFT factory: Attempting to register factory for plugin cuFFT when one has already been registered\n",
      "2024-10-11 17:17:31.567889: E external/local_xla/xla/stream_executor/cuda/cuda_blas.cc:1515] Unable to register cuBLAS factory: Attempting to register factory for plugin cuBLAS when one has already been registered\n",
      "2024-10-11 17:17:32.491228: W tensorflow/compiler/tf2tensorrt/utils/py_utils.cc:38] TF-TRT Warning: Could not find TensorRT\n"
     ]
    }
   ],
   "source": [
    "from flow_diagrams.utils.train import log_weights_given_latent, normalize_weights, sampling_efficiency, effective_sample_size, delta_f_to_prior\n",
    "from flow_diagrams.utils.visualization import radial_distribution_function\n",
    "from flow_diagrams.utils.data import NumpyLoader, split_data\n",
    "from flow_diagrams.utils.symmetry import *\n",
    "\n",
    "from jax import numpy as jnp\n",
    "\n",
    "#from flow_diagrams.energy.lennard_jones import fd_lennard_jones_neighbor_list\n",
    "from jax_md.energy import stillinger_weber_neighbor_list\n",
    "\n",
    "from flow_diagrams.models.coupling_flows import ConditionalCouplingFlowNPT\n",
    "\n",
    "from flow_diagrams.utils.train import running_average\n",
    "# from flow_diagrams.utils.lattice import volume_to_box\n",
    "from flow_diagrams.utils.weights import get_weights, get_biases\n",
    "from flow_diagrams.utils.jax import key_chain\n",
    "from IPython.display import clear_output\n",
    "from flow_diagrams.utils.conditioning import grid_conditional_variables\n",
    "import time\n"
   ]
  },
  {
   "cell_type": "code",
   "execution_count": 9,
   "metadata": {},
   "outputs": [],
   "source": [
    "chain = key_chain(1)"
   ]
  },
  {
   "cell_type": "markdown",
   "metadata": {},
   "source": [
    "## Constants"
   ]
  },
  {
   "cell_type": "code",
   "execution_count": 10,
   "metadata": {},
   "outputs": [],
   "source": [
    "EPSILON   = 6.189\n",
    "SIGMA     = 2.3925\n",
    "a         = 1.80\n",
    "lam       = 23.15\n",
    "gamma     = 1.20\n",
    "A         = 7.049556277\n",
    "B         = 0.6022245584\n",
    "p         = 4.\n",
    "q         = 0.\n",
    "#theta_0   = np.radians(109.47)\n",
    "NUM_PARTICLES = 60 #180\n",
    "SPATIAL_DIMENSIONS = 3\n",
    "KB = 0.00831446261815324 # in (unit.kilojoule_per_mole/unit.kelvin)\n",
    "CUTOFF= a * SIGMA"
   ]
  },
  {
   "cell_type": "markdown",
   "metadata": {},
   "source": [
    "## Transformation functions"
   ]
  },
  {
   "cell_type": "code",
   "execution_count": 11,
   "metadata": {},
   "outputs": [],
   "source": [
    "\n",
    "def remove_disp_of_first_atom(displacements):\n",
    "    # assert displacements.shape == (NUM_PARTICLES, SPATIAL_DIMENSIONS)\n",
    "\n",
    "    disp_at_1 = displacements[0,:]\n",
    "\n",
    "    return displacements - disp_at_1\n",
    "\n",
    "\n",
    "def transform_abs_coords_to_rel_coords(absolute_coordinates: Array, side_length: Array):\n",
    "    \"\"\"Transforms relative coordinates inside the unit cube to absolute coordinates given a 3d box_vector.\"\"\"\n",
    "    assert absolute_coordinates.shape[-1] == SPATIAL_DIMENSIONS\n",
    "    assert side_length.shape == (3,)\n",
    "    return absolute_coordinates / side_length\n",
    "\n",
    "\n",
    "\n",
    "\n"
   ]
  },
  {
   "cell_type": "markdown",
   "metadata": {},
   "source": [
    "## Put MD data into dataloader "
   ]
  },
  {
   "cell_type": "code",
   "execution_count": 12,
   "metadata": {},
   "outputs": [],
   "source": [
    "def wrap_to_unit_cube(pos, lower, upper):\n",
    "    width = upper - lower\n",
    "    return jnp.mod(pos - lower, width) + lower\n",
    "\n",
    "def wrap_to_box(pos, box):\n",
    "    return pos % box"
   ]
  },
  {
   "cell_type": "code",
   "execution_count": 13,
   "metadata": {},
   "outputs": [],
   "source": [
    "jax.config.update(\"jax_enable_x64\", False)\n"
   ]
  },
  {
   "cell_type": "code",
   "execution_count": 14,
   "metadata": {},
   "outputs": [
    {
     "name": "stdout",
     "output_type": "stream",
     "text": [
      "# Prior samples 10000\n"
     ]
    }
   ],
   "source": [
    "LOWER = 0.\n",
    "UPPER = 1.\n",
    "CUT_TYPE = 'switch'\n",
    "\n",
    "PRIOR_PRESSURE = 1.\n",
    "TEMP_PRIOR  = 273.\n",
    "\n",
    "REDUCED_TEMP_PRIOR = TEMP_PRIOR * KB / EPSILON\n",
    "REDUCED_PRESS_PRIOR = PRIOR_PRESSURE * SIGMA**3 / EPSILON\n",
    "\n",
    "filename_prior = f\"prod.liquid_{TEMP_PRIOR:.0f}K_{PRIOR_PRESSURE:.0f}atm_mW.npz\"\n",
    "\n",
    "data_prior = jnp.load(filename_prior)\n",
    "positions_prior_abs = data_prior['pos']\n",
    "box_prior = data_prior['box']\n",
    "vols_prior = jnp.prod(box_prior,axis=-1)\n",
    "BOX_EDGES = np.mean(box_prior,axis=0)\n",
    "\n",
    "# fix first atom in origin and wrap to box\n",
    "positions_prior = jax.vmap(wrap_to_box)(jax.vmap(remove_disp_of_first_atom)(positions_prior_abs),box_prior)\n",
    "MEAN_CONFIG = np.mean(positions_prior,axis=0)\n",
    "\n",
    "# scale to [0,1]\n",
    "positions_prior= jax.vmap(transform_abs_coords_to_rel_coords)(positions_prior,box_prior)\n",
    "positions_prior = wrap_to_unit_cube(positions_prior,LOWER,UPPER)    \n",
    "\n",
    "scale_prior = box_prior[:,0] / BOX_EDGES[0]\n",
    "energies_prior = data_prior['ene']\n",
    "\n",
    "assert np.logical_and(1. >= UPPER, positions_prior >= LOWER).all()\n",
    "assert np.allclose(positions_prior[:,0,:],0,atol=1e-7)\n",
    "\n",
    "n_configurations_prior = positions_prior.shape[0] \n",
    "\n",
    "print('# Prior samples', n_configurations_prior)"
   ]
  },
  {
   "cell_type": "code",
   "execution_count": 15,
   "metadata": {},
   "outputs": [
    {
     "data": {
      "image/png": "[encoded data removed]",
      "text/plain": [
       "<Figure size 1000x500 with 2 Axes>"
      ]
     },
     "metadata": {},
     "output_type": "display_data"
    }
   ],
   "source": [
    "n_samples_rdf = 500\n",
    "rdf = radial_distribution_function(data_prior['pos'][:n_samples_rdf],data_prior['box'][:n_samples_rdf], NUM_PARTICLES)\n",
    "\n",
    "plt.figure(figsize=(10,5))\n",
    "plt.subplot(1,2,1)\n",
    "plt.plot(*rdf)\n",
    "plt.ylabel('g(r)')\n",
    "plt.xlabel('r')\n",
    "plt.subplot(1,2,2)\n",
    "plt.plot(data_prior['pos'][:n_samples_rdf,0,0])\n",
    "plt.show()"
   ]
  },
  {
   "cell_type": "code",
   "execution_count": 16,
   "metadata": {},
   "outputs": [],
   "source": [
    "BATCH_SIZE = 128\n"
   ]
  },
  {
   "cell_type": "code",
   "execution_count": 17,
   "metadata": {},
   "outputs": [],
   "source": [
    "train_fraction = .8\n",
    "# Store all displacements relative to first one (which stays at its equilibrium position)\n",
    "dataset_prior_train, dataset_prior_test = split_data(train_fraction, positions_prior,\n",
    "                        energies_prior,\n",
    "                       scale_prior)\n",
    "dataloader_train = NumpyLoader(dataset_prior_train,BATCH_SIZE,False)\n",
    "\n"
   ]
  },
  {
   "cell_type": "code",
   "execution_count": 18,
   "metadata": {},
   "outputs": [
    {
     "data": {
      "text/plain": [
       "(8000, 2000)"
      ]
     },
     "execution_count": 18,
     "metadata": {},
     "output_type": "execute_result"
    }
   ],
   "source": [
    "len(dataset_prior_train), len(dataset_prior_test)"
   ]
  },
  {
   "cell_type": "markdown",
   "metadata": {
    "id": "f7JwYyFdRPny"
   },
   "source": [
    "## Prepare the system"
   ]
  },
  {
   "cell_type": "code",
   "execution_count": 19,
   "metadata": {},
   "outputs": [],
   "source": [
    "\n",
    "# Using float32 for positions / velocities, but float64 for reductions.\n",
    "dtype = np.float32\n",
    "\n",
    "# Specify the format of the neighbor list. \n",
    "# Options are Dense, Sparse, or OrderedSparse. \n",
    "format = partition.Dense #OrderedSparse"
   ]
  },
  {
   "cell_type": "code",
   "execution_count": 20,
   "metadata": {},
   "outputs": [],
   "source": [
    "displacement_frac, shift_frac = space.periodic_general(BOX_EDGES, fractional_coordinates=False)\n",
    "\n",
    "neighbor_fn, energy_fn = stillinger_weber_neighbor_list(\n",
    "    displacement=displacement_frac,\n",
    "    box_size=BOX_EDGES,\n",
    "    sigma=SIGMA,\n",
    "    A = A,\n",
    "    B = B,\n",
    "    lam = lam,\n",
    "    gamma = gamma,\n",
    "    epsilon= EPSILON,\n",
    "    cutoff = CUTOFF,\n",
    "    dr_threshold= 0.5,\n",
    "    fractional_coordinates=False,\n",
    "    format = format\n",
    "    ) \n",
    "\n",
    "NEIGHBOR_LIST = neighbor_fn.allocate(MEAN_CONFIG)"
   ]
  },
  {
   "cell_type": "code",
   "execution_count": 21,
   "metadata": {},
   "outputs": [],
   "source": [
    "def compute_sw_energy(pos_rel: jnp.ndarray, scale):\n",
    "    box= scale * BOX_EDGES\n",
    "    nbrs = NEIGHBOR_LIST.update(pos_rel * box)\n",
    "    sw_energy = energy_fn(pos_rel * box, nbrs, box=box)\n",
    "\n",
    "    return sw_energy\n"
   ]
  },
  {
   "cell_type": "code",
   "execution_count": 22,
   "metadata": {},
   "outputs": [],
   "source": [
    "num_samples = 10\n"
   ]
  },
  {
   "cell_type": "code",
   "execution_count": 23,
   "metadata": {},
   "outputs": [
    {
     "name": "stderr",
     "output_type": "stream",
     "text": [
      "/home/ninarell/miniconda3/envs/bg/lib/python3.10/site-packages/jax/_src/numpy/reductions.py:212: UserWarning: Explicitly requested dtype <class 'jax.numpy.float64'> requested in sum is not available, and will be truncated to dtype float32. To enable more dtypes, set the jax_enable_x64 configuration option or the JAX_ENABLE_X64 shell environment variable. See https://github.com/google/jax#current-gotchas for more.\n",
      "  return _reduction(a, \"sum\", np.sum, lax.add, 0, preproc=_cast_to_numeric,\n"
     ]
    }
   ],
   "source": [
    "ene_prior = dataset_prior_test.energies[:num_samples]\n",
    "pos_latent = dataset_prior_test.pos[:num_samples]\n",
    "scale_latent = dataset_prior_test.scale[:num_samples]\n",
    "# config_latent = jax.vmap(transform_abs_pos_to_abs_config)(pos_latent)\n",
    "energies_recomputed_prior = jax.vmap(\n",
    "               compute_sw_energy)(pos_latent,scale_latent)"
   ]
  },
  {
   "cell_type": "code",
   "execution_count": 24,
   "metadata": {},
   "outputs": [
    {
     "name": "stdout",
     "output_type": "stream",
     "text": [
      "60\n",
      "[ 6.1035156e-05  1.2207031e-04 -1.8310547e-04  1.2207031e-04\n",
      " -6.1035156e-05  6.1035156e-05 -6.1035156e-05  0.0000000e+00\n",
      " -1.2207031e-04 -1.8310547e-04]\n"
     ]
    }
   ],
   "source": [
    "print(len(positions_prior[1]))\n",
    "print(energies_recomputed_prior - ene_prior)"
   ]
  },
  {
   "cell_type": "code",
   "execution_count": 25,
   "metadata": {},
   "outputs": [
    {
     "data": {
      "image/png": "[encoded data removed]",
      "text/plain": [
       "<Figure size 640x480 with 1 Axes>"
      ]
     },
     "metadata": {},
     "output_type": "display_data"
    }
   ],
   "source": [
    "# Ensure that energy function reproduces the MD energies\n",
    "plt.plot(ene_prior / energies_recomputed_prior)\n",
    "plt.show()"
   ]
  },
  {
   "cell_type": "code",
   "execution_count": 26,
   "metadata": {},
   "outputs": [],
   "source": [
    "chain=key_chain(1)"
   ]
  },
  {
   "cell_type": "code",
   "execution_count": 27,
   "metadata": {},
   "outputs": [
    {
     "name": "stdout",
     "output_type": "stream",
     "text": [
      "0.36675525848373475 2.212765322043141\n"
     ]
    }
   ],
   "source": [
    "print(REDUCED_TEMP_PRIOR, REDUCED_PRESS_PRIOR)"
   ]
  },
  {
   "cell_type": "code",
   "execution_count": 28,
   "metadata": {},
   "outputs": [],
   "source": [
    "p_max = 2.4* convert_from_reduced_p(EPSILON, SIGMA)\n",
    "p_min = 2.* convert_from_reduced_p(EPSILON, SIGMA)\n",
    "\n",
    "t_max = 0.38* convert_from_reduced_t(EPSILON, KB)\n",
    "t_min = 0.35* convert_from_reduced_t(EPSILON, KB)\n",
    "conditioning_states= grid_conditional_variables(t_min,t_max,p_min, p_max, 80,80)\n",
    "\n"
   ]
  },
  {
   "cell_type": "code",
   "execution_count": 29,
   "metadata": {},
   "outputs": [],
   "source": [
    "assert conditioning_states[0,0] == t_min\n",
    "assert conditioning_states[0,1] == p_min\n",
    "\n",
    "assert conditioning_states[-1,0] == t_max\n",
    "assert conditioning_states[-1,1] == p_max"
   ]
  },
  {
   "cell_type": "code",
   "execution_count": 30,
   "metadata": {},
   "outputs": [
    {
     "name": "stdout",
     "output_type": "stream",
     "text": [
      "260.527961875801 282.85893003658396 0.9038464133888876 1.084615696066665\n"
     ]
    }
   ],
   "source": [
    "print(t_min, t_max, p_min, p_max)"
   ]
  },
  {
   "cell_type": "code",
   "execution_count": 31,
   "metadata": {},
   "outputs": [
    {
     "name": "stdout",
     "output_type": "stream",
     "text": [
      "156_587\n"
     ]
    }
   ],
   "source": [
    "\n",
    "\n",
    "flow = ConditionalCouplingFlowNPT(n_layers=1,\n",
    "                            num_hidden=2,\n",
    "                            dim_hidden=32,\n",
    "                            num_hidden_shape=4,\n",
    "                            dim_hidden_shape=16,\n",
    "                            dim_embedd =32,\n",
    "                            lower=0,\n",
    "                            upper=1,\n",
    "                            n_bins=16,\n",
    "                            n_heads=1,\n",
    "                            t_max=t_max,\n",
    "                            p_max=p_max,\n",
    "                            use_layer_norm=True,\n",
    "                            n_blocks=1,\n",
    "                            use_circular_shift=True,\n",
    "                            n_freqs=8,\n",
    "                            init_identity=True,\n",
    "                            n_particles=NUM_PARTICLES ,\n",
    "                            key= next(chain))\n",
    "\n",
    "params, static = eqx.partition(flow, eqx.is_array)\n",
    "\n",
    "param_count = sum(x.size for x in jax.tree_util.tree_leaves(params))\n",
    "print(f\"{param_count:_}\")"
   ]
  },
  {
   "cell_type": "markdown",
   "metadata": {},
   "source": [
    "## Train model"
   ]
  },
  {
   "cell_type": "code",
   "execution_count": 32,
   "metadata": {},
   "outputs": [],
   "source": [
    "NUM_EPOCHS = 20\n",
    "n_batches = len(dataloader_train)\n",
    "n_total_steps = NUM_EPOCHS * n_batches\n"
   ]
  },
  {
   "cell_type": "code",
   "execution_count": 33,
   "metadata": {},
   "outputs": [],
   "source": [
    "# optim = optax.adam(1e-7)\n",
    "optim = optax.adam(5e-5\n",
    "                   )\n",
    "optim = optax.chain(optax.clip_by_global_norm(1e4), optim)"
   ]
  },
  {
   "cell_type": "code",
   "execution_count": 34,
   "metadata": {},
   "outputs": [],
   "source": [
    "params, static = eqx.partition(flow, eqx.is_array)\n",
    "opt_state = optim.init(params)\n"
   ]
  },
  {
   "cell_type": "code",
   "execution_count": 35,
   "metadata": {},
   "outputs": [],
   "source": [
    "key = key_chain(1)\n"
   ]
  },
  {
   "cell_type": "code",
   "execution_count": 36,
   "metadata": {},
   "outputs": [],
   "source": [
    "loss_batch_eval = jnp.zeros((n_batches,))\n",
    "losses_eval = jnp.empty(shape=(0,))\n",
    "efficiencies = jnp.empty(shape=(0,))\n"
   ]
  },
  {
   "cell_type": "code",
   "execution_count": 37,
   "metadata": {},
   "outputs": [],
   "source": [
    "from flow_diagrams.train.train import make_step, batch_loss_temp_press_vmap"
   ]
  },
  {
   "cell_type": "code",
   "execution_count": 38,
   "metadata": {},
   "outputs": [],
   "source": [
    "@eqx.filter_jit\n",
    "def evaluate_flow(flow,pos,scale,temp,press):\n",
    "    return flow.forward(pos=pos,scale=scale,temp=temp,press=press)"
   ]
  },
  {
   "cell_type": "code",
   "execution_count": 39,
   "metadata": {},
   "outputs": [],
   "source": [
    "eval_state = jnp.array([[0.37 * EPSILON / KB, 2.212765322043141 * EPSILON / SIGMA**3]])\n"
   ]
  },
  {
   "cell_type": "code",
   "execution_count": 40,
   "metadata": {},
   "outputs": [
    {
     "data": {
      "text/plain": [
       "Array([[275.41528,   1.     ]], dtype=float32)"
      ]
     },
     "execution_count": 40,
     "metadata": {},
     "output_type": "execute_result"
    }
   ],
   "source": [
    "eval_state"
   ]
  },
  {
   "cell_type": "code",
   "execution_count": 41,
   "metadata": {},
   "outputs": [],
   "source": [
    "# Reference value: Free energy difference per particle for evaluation state\n",
    "delta_f_ref = -0.1391"
   ]
  },
  {
   "cell_type": "code",
   "execution_count": 42,
   "metadata": {},
   "outputs": [
    {
     "name": "stderr",
     "output_type": "stream",
     "text": [
      "No artists with labels found to put in legend.  Note that artists whose label start with an underscore are ignored when legend() is called with no argument.\n"
     ]
    },
    {
     "data": {
      "image/png": "[encoded data removed]",
      "text/plain": [
       "<Figure size 500x500 with 1 Axes>"
      ]
     },
     "metadata": {},
     "output_type": "display_data"
    }
   ],
   "source": [
    "PRINT_ITERS = 5\n",
    "IS_LIQUID = False\n",
    "for i in range(NUM_EPOCHS):\n",
    "\n",
    "    for ibatch, (batch_pos, batch_ene, batch_scale) in enumerate(dataloader_train):\n",
    "        key = next(chain)\n",
    "        chain = key_chain(key)\n",
    "\n",
    "        loss_train, flow, opt_state = make_step(\n",
    "            batch_pos=batch_pos,\n",
    "            batch_ene=batch_ene,\n",
    "            batch_scale=batch_scale,\n",
    "            flow=flow,\n",
    "            temps_and_pressures=conditioning_states,\n",
    "            optimized_state=opt_state,\n",
    "            optim=optim,\n",
    "            target_energy_fn=compute_sw_energy,\n",
    "            prior_pressure=PRIOR_PRESSURE,\n",
    "            reference_box=BOX_EDGES,\n",
    "            prior_temp=TEMP_PRIOR,\n",
    "            key=next(chain),\n",
    "        )\n",
    "\n",
    "        loss_eval = batch_loss_temp_press_vmap(\n",
    "            batch_pos=batch_pos,\n",
    "            batch_scale=batch_scale,\n",
    "            batch_ene=batch_ene,\n",
    "            temps_and_pressures=eval_state,\n",
    "            flow=flow,\n",
    "            prior_pressure=PRIOR_PRESSURE,\n",
    "            reference_box=BOX_EDGES,\n",
    "            prior_temp=TEMP_PRIOR,\n",
    "            target_energy_fn=compute_sw_energy,\n",
    "        )\n",
    "\n",
    "        loss_batch_eval = loss_batch_eval.at[ibatch].set(loss_eval)\n",
    "\n",
    "    losses_eval = jnp.concatenate((losses_eval, loss_batch_eval))\n",
    "    clear_output(wait=True)\n",
    "    plt.figure(figsize=(5, 5))\n",
    "    plt.plot(\n",
    "        np.linspace(0, losses_eval.shape[0] / n_batches, losses_eval.shape[0]),\n",
    "        losses_eval / NUM_PARTICLES,\n",
    "    )\n",
    "\n",
    "    #plt.axhline(delta_f_ref, linestyle=\"--\", color=\"black\", label=r\"MBAR $\\Delta f / N$\")\n",
    "    plt.xlabel(\"# Epochs\")\n",
    "    plt.ylabel(\"Loss\")\n",
    "    plt.legend()\n",
    "    plt.show()"
   ]
  },
  {
   "cell_type": "markdown",
   "metadata": {},
   "source": [
    "## Evaluate trained model "
   ]
  },
  {
   "cell_type": "code",
   "execution_count": 43,
   "metadata": {},
   "outputs": [],
   "source": [
    "evaluation_states = grid_conditional_variables(t_min,t_max,p_min, p_max, 8,8)\n"
   ]
  },
  {
   "cell_type": "code",
   "execution_count": 44,
   "metadata": {},
   "outputs": [
    {
     "name": "stdout",
     "output_type": "stream",
     "text": [
      "0 [260.52795      0.90384644] 0.030906642\n",
      "1 [260.52795      0.92967063] 0.03467353\n",
      "2 [260.52795     0.9554948] 0.038225222\n",
      "3 [260.52795      0.98131895] 0.04220378\n",
      "4 [260.52795     1.0071431] 0.046628088\n",
      "5 [260.52795     1.0329673] 0.05089738\n",
      "6 [260.52795     1.0587915] 0.055101775\n",
      "7 [260.52795     1.0846157] 0.060966983\n",
      "8 [263.7181       0.90384644] 0.030180557\n",
      "9 [263.7181       0.92967063] 0.034434687\n",
      "10 [263.7181      0.9554948] 0.03814714\n",
      "11 [263.7181       0.98131895] 0.041935455\n",
      "12 [263.7181      1.0071431] 0.04597704\n",
      "13 [263.7181      1.0329673] 0.04976426\n",
      "14 [263.7181      1.0587915] 0.05330196\n",
      "15 [263.7181      1.0846157] 0.058296118\n",
      "16 [266.90823      0.90384644] 0.029042076\n",
      "17 [266.90823      0.92967063] 0.03404338\n",
      "18 [266.90823     0.9554948] 0.037994944\n",
      "19 [266.90823      0.98131895] 0.041630067\n",
      "20 [266.90823     1.0071431] 0.045350995\n",
      "21 [266.90823     1.0329673] 0.048763398\n",
      "22 [266.90823     1.0587915] 0.051924806\n",
      "23 [266.90823     1.0846157] 0.056217704\n",
      "24 [270.09836      0.90384644] 0.027567906\n",
      "25 [270.09836      0.92967063] 0.033365566\n",
      "26 [270.09836     0.9554948] 0.037622258\n",
      "27 [270.09836      0.98131895] 0.041285306\n",
      "28 [270.09836     1.0071431] 0.044840083\n",
      "29 [270.09836     1.0329673] 0.04809391\n",
      "30 [270.09836     1.0587915] 0.05109249\n",
      "31 [270.09836     1.0846157] 0.054857336\n",
      "32 [273.28848      0.90384644] 0.025906347\n",
      "33 [273.28848      0.92967063] 0.032541968\n",
      "34 [273.28848     0.9554948] 0.037105165\n",
      "35 [273.28848      0.98131895] 0.04100592\n",
      "36 [273.28848     1.0071431] 0.044601932\n",
      "37 [273.28848     1.0329673] 0.04779543\n",
      "38 [273.28848     1.0587915] 0.050647143\n",
      "39 [273.28848     1.0846157] 0.054024983\n",
      "40 [276.47864      0.90384644] 0.024009226\n",
      "41 [276.47864      0.92967063] 0.03144705\n",
      "42 [276.47864     0.9554948] 0.036599085\n",
      "43 [276.47864      0.98131895] 0.040862266\n",
      "44 [276.47864     1.0071431] 0.044617586\n",
      "45 [276.47864     1.0329673] 0.0477772\n",
      "46 [276.47864     1.0587915] 0.050477408\n",
      "47 [276.47864     1.0846157] 0.053547945\n",
      "48 [279.66876      0.90384644] 0.022136567\n",
      "49 [279.66876      0.92967063] 0.030165825\n",
      "50 [279.66876     0.9554948] 0.035893384\n",
      "51 [279.66876      0.98131895] 0.040635932\n",
      "52 [279.66876     1.0071431] 0.044667996\n",
      "53 [279.66876     1.0329673] 0.04791226\n",
      "54 [279.66876     1.0587915] 0.05054292\n",
      "55 [279.66876     1.0846157] 0.053369302\n",
      "56 [282.85892      0.90384644] 0.020337226\n",
      "57 [282.85892      0.92967063] 0.028630242\n",
      "58 [282.85892     0.9554948] 0.034808178\n",
      "59 [282.85892      0.98131895] 0.040183354\n",
      "60 [282.85892     1.0071431] 0.044586282\n",
      "61 [282.85892     1.0329673] 0.04798249\n",
      "62 [282.85892     1.0587915] 0.050569154\n",
      "63 [282.85892     1.0846157] 0.053231653\n"
     ]
    }
   ],
   "source": [
    "n_test = 200\n",
    "batch_pos = dataset_prior_test.pos[:n_test]\n",
    "batch_scale = dataset_prior_test.scale[:n_test]\n",
    "batch_energies = dataset_prior_test.energies[:n_test]\n",
    "efficiencies = jnp.empty((0,))\n",
    "deltaFs = jnp.empty((0,))\n",
    "\n",
    "mean_disps = jnp.empty((0,n_test))\n",
    "\n",
    "for j, state in enumerate(evaluation_states):\n",
    "    logw_flow_unnormalized = jax.vmap(\n",
    "            lambda pos,ene,scal: log_weights_given_latent(\n",
    "                pos_prior=pos,\n",
    "                prior_energy=ene,\n",
    "                scale_prior=scal,\n",
    "                flow=flow,\n",
    "                temp_and_pressure_target=state,\n",
    "                temp_and_pressure_flow=state,\n",
    "                n_particles=NUM_PARTICLES,\n",
    "                pressure_prior=PRIOR_PRESSURE,\n",
    "                temp_prior=TEMP_PRIOR,\n",
    "                reference_box=BOX_EDGES,\n",
    "                target_energy_fn=compute_sw_energy,\n",
    "            )\n",
    "        )(batch_pos, batch_energies, batch_scale)\n",
    "\n",
    "    logw_normalized = normalize_weights(logw_flow_unnormalized)\n",
    "\n",
    "    deltaF = delta_f_to_prior(logw_flow_unnormalized)\n",
    "\n",
    "    efficiency = sampling_efficiency(logw_flow_unnormalized)\n",
    "    ess_flow = effective_sample_size(logw_flow_unnormalized)\n",
    "    efficiencies = jnp.concatenate((efficiencies, jnp.array([ efficiency])))\n",
    "    deltaFs = jnp.concatenate((deltaFs, jnp.array([ deltaF])))\n",
    "    print(j, state, efficiency)"
   ]
  },
  {
   "cell_type": "code",
   "execution_count": 46,
   "metadata": {},
   "outputs": [
    {
     "data": {
      "image/png": "[encoded data removed]",
      "text/plain": [
       "<Figure size 640x480 with 2 Axes>"
      ]
     },
     "metadata": {},
     "output_type": "display_data"
    }
   ],
   "source": [
    "contour = plt.tricontourf(\n",
    "    evaluation_states[:, 0]/ convert_from_reduced_t(EPSILON, KB),\n",
    "    evaluation_states[:, 1] / convert_from_reduced_p(EPSILON, SIGMA),\n",
    "    efficiencies * 100,\n",
    "    norm=colors.LogNorm(),\n",
    "    levels=np.geomspace(1e-0, 100, 11),\n",
    ")\n",
    "plt.colorbar(contour, ticks=np.geomspace(1e-0, 100, 11))\n",
    "plt.scatter(\n",
    "    evaluation_states[:, 0] / convert_from_reduced_t(EPSILON, KB),\n",
    "    evaluation_states[:, 1] / convert_from_reduced_p(EPSILON, SIGMA),\n",
    "    alpha=0.2,\n",
    ")\n",
    "plt.plot(REDUCED_TEMP_PRIOR, REDUCED_PRESS_PRIOR, \"x\", color=\"blue\")\n",
    "#plt.plot(TEMP_PRIOR, PRIOR_PRESSURE, \"x\", color=\"blue\")\n",
    "# plt.yscale('log')\n",
    "plt.set_cmap(\"Reds\")\n",
    "plt.xlabel(\"T*\")\n",
    "plt.title(\"ESS [%]\")\n",
    "plt.ylabel(\"P*\")\n",
    "#plt.axis([0.3,0.4,1.8,2.5])\n",
    "plt.show()"
   ]
  },
  {
   "cell_type": "code",
   "execution_count": 172,
   "metadata": {},
   "outputs": [],
   "source": [
    "n_test = 100\n",
    "batch_pos = dataset_prior_test.pos[:n_test]\n",
    "batch_scale = dataset_prior_test.scale[:n_test]\n",
    "batch_energies = dataset_prior_test.energies[:n_test]\n",
    "\n",
    "results =jax.vmap(lambda pos,scale : evaluate_flow(flow,pos,scale,TEMP_PRIOR,PRIOR_PRESSURE))(batch_pos, batch_scale)\n",
    "\n",
    "pos_results = jnp.array(results[0])\n",
    "scale_results = jnp.array(results[1])\n",
    "ene_results = jax.vmap(compute_sw_energy)(pos_results,scale_results)\n"
   ]
  },
  {
   "cell_type": "code",
   "execution_count": 176,
   "metadata": {},
   "outputs": [
    {
     "data": {
      "text/plain": [
       "Array(-607.60046, dtype=float32)"
      ]
     },
     "execution_count": 176,
     "metadata": {},
     "output_type": "execute_result"
    }
   ],
   "source": [
    "compute_sw_energy(dataset_prior_test.pos[0],dataset_prior_test.scale[1])"
   ]
  },
  {
   "cell_type": "code",
   "execution_count": 169,
   "metadata": {},
   "outputs": [
    {
     "data": {
      "text/plain": [
       "<matplotlib.patches.StepPatch at 0x784994bb6650>"
      ]
     },
     "execution_count": 169,
     "metadata": {},
     "output_type": "execute_result"
    },
    {
     "data": {
      "image/png": "[encoded data removed]",
      "text/plain": [
       "<Figure size 640x480 with 1 Axes>"
      ]
     },
     "metadata": {},
     "output_type": "display_data"
    }
   ],
   "source": [
    "counts, bins = jnp.histogram(ene_results,density=1)\n",
    "plt.stairs(counts, bins)\n",
    "counts, bins = jnp.histogram(dataset_prior_test.energies,density=1)\n",
    "plt.stairs(counts, bins)\n",
    "\n"
   ]
  },
  {
   "cell_type": "code",
   "execution_count": null,
   "metadata": {},
   "outputs": [],
   "source": []
  }
 ],
 "metadata": {
  "kernelspec": {
   "display_name": "bg",
   "language": "python",
   "name": "python3"
  },
  "language_info": {
   "codemirror_mode": {
    "name": "ipython",
    "version": 3
   },
   "file_extension": ".py",
   "mimetype": "text/x-python",
   "name": "python",
   "nbconvert_exporter": "python",
   "pygments_lexer": "ipython3",
   "version": "3.10.12"
  }
 },
 "nbformat": 4,
 "nbformat_minor": 2
}
